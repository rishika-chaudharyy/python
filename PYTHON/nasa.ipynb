{
 "cells": [
  {
   "cell_type": "code",
   "execution_count": null,
   "metadata": {},
   "outputs": [],
   "source": [
    "#Q.2 \n",
    "import pandas as pd\n",
    "import numpy as np\n",
    "# Load the dataset\n",
    "df = pd.read_csv('nasa.csv')\n",
    "# Dropping null records\n",
    "df = df.dropna()\n",
    "#Replacing NA with the mean values in Est dia in mines(min) column\n",
    "column_name = 'Est Dia in Miles(min)'\n",
    "mean_value = df[column_name].mean()\n",
    "df[column_name].fillna(mean_value, inplace=True)\n",
    "# Replace empty values with the mode of the column\n",
    "column_name = 'Epoch Date Close Approach'\n",
    "mode_value = df[column_name].mode()[0] #Calculate the mode (most\n",
    "#frequent value) of the column\n",
    "df[column_name].fillna(mode_value, inplace=True)\n",
    "# Save the cleaned dataset\n",
    "df.to_csv('clear_nasa.csv', index=False)"
   ]
  },
  {
   "cell_type": "code",
   "execution_count": null,
   "metadata": {},
   "outputs": [],
   "source": [
    "#Q.3\n",
    "import pandas as pd\n",
    "# Load the dataset\n",
    "df = pd.read_csv('your_dataset.csv')\n",
    "# Statistical analysis\n",
    "statistics = {\n",
    "'Count': df.count(),\n",
    "'Sum': df.sum(),\n",
    "'Range': df.max() - df.min(),\n",
    "'Minimum': df.min(),\n",
    "'Maximum': df.max(),\n",
    "'Mean': df.mean(),\n",
    "'Median': df.median(),\n",
    "'Mode': df.mode().iloc[0], # Mode for each column (only applicable to\n",
    "#categorical columns)\n",
    "'Variance': df.var(),\n",
    "'Standard Deviation': df.std()\n",
    "}\n",
    "# Display the statistics\n",
    "statistics_df = pd.DataFrame(statistics)\n",
    "print(statistics_df)"
   ]
  },
  {
   "cell_type": "code",
   "execution_count": null,
   "metadata": {},
   "outputs": [],
   "source": [
    "#Q.4\n",
    "import pandas as pd\n",
    "# Load the dataset\n",
    "df = pd.read_csv('nasa.csv')\n",
    "# Display unique values and their counts for each column\n",
    "for col in df.columns:\n",
    "unique_values = df[col].unique()\n",
    "unique_values_count = df[col].nunique() # Count of unique values\n",
    "print(f'Column: {col}')\n",
    "print(f'Number of Unique Values: {unique_values_count}')\n",
    "print(f'Unique Values:')\n",
    "print(unique_values)\n",
    "print()"
   ]
  },
  {
   "cell_type": "code",
   "execution_count": null,
   "metadata": {},
   "outputs": [],
   "source": [
    "#Q.5\n",
    "import pandas as pd\n",
    "import matplotlib.pyplot as plt\n",
    "# Load the dataset\n",
    "df = pd.read_csv('nasa.csv')\n",
    "# Create subplots\n",
    "# Scatter plot\n",
    "plt.subplot(2, 2, 1)\n",
    "df.plot.scatter(x='Est Dia in KM(min)', y='Relative Velocity km per sec')\n",
    "plt.title('Scatter Plot')\n",
    "# Line graph\n",
    "plt.subplot(2, 2, 2)\n",
    "df.plot(x='Est Dia in KM(min)', y='Relative Velocity km per sec', color='red')\n",
    "plt.title('Line Graph')\n",
    "# Histogram\n",
    "plt.subplot(2, 2, 3)\n",
    "df['Est Dia in KM(min)'].plot.hist(bins=20, color='green')\n",
    "plt.title('Histogram')\n",
    "# Show the plot\n",
    "plt.show()"
   ]
  },
  {
   "cell_type": "code",
   "execution_count": null,
   "metadata": {},
   "outputs": [],
   "source": [
    "#Q.6\n",
    "import pandas as pd\n",
    "from sklearn.model_selection import train_test_split\n",
    "from sklearn.neighbors import KNeighborsClassifier\n",
    "from sklearn.metrics import accuracy_score, precision_score, recall_score,f1_score\n",
    "df = pd.read_csv('nasa.csv')\n",
    "df['Hazardous'] = df['Hazardous'].map({'True': 1, 'False': 0})\n",
    "X = df.drop('Hazardous', axis=1)\n",
    "y = df['Hazardous']\n",
    "X_train, X_test, y_train, y_test = train_test_split(X, y, test_size=0.2,\n",
    "random_state=42)\n",
    "knn_classifier = KNeighborsClassifier()\n",
    "knn_classifier.fit(X_train_imputed, y_train)\n",
    "y_pred = knn_classifier.predict(X_test_imputed)\n",
    "accuracy = accuracy_score(y_test, y_pred)\n",
    "precision = precision_score(y_test, y_pred)\n",
    "recall = recall_score(y_test, y_pred)\n",
    "f1 = f1_score(y_test, y_pred)\n",
    "print(\"Accuracy Score:\", accuracy)\n",
    "print(\"Precision Score:\", precision)\n",
    "print(\"Recall Score:\", recall)\n",
    "print(\"F1 Score:\", f1)"
   ]
  }
 ],
 "metadata": {
  "language_info": {
   "name": "python"
  }
 },
 "nbformat": 4,
 "nbformat_minor": 2
}
